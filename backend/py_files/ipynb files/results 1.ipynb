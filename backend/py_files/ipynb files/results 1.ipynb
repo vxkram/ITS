{
 "cells": [
  {
   "cell_type": "code",
   "execution_count": 1,
   "id": "6ac614ae",
   "metadata": {},
   "outputs": [],
   "source": [
    "from fastapi import FastAPI, HTTPException\n",
    "from fastapi.responses import FileResponse\n",
    "import json\n",
    "from datetime import datetime\n",
    "import matplotlib.pyplot as plt\n",
    "\n",
    "app = FastAPI()\n",
    "\n",
    "def save_plot_scores():\n",
    "    file_path = \"quiz_scores.json\"  # Adjust path as necessary\n",
    "    output_path = \"quiz_scores_plot.png\"  # Adjust path as necessary\n",
    "    try:\n",
    "        with open(file_path, \"r\") as file:\n",
    "            scores = json.load(file)\n",
    "    except FileNotFoundError:\n",
    "        print(\"Score file not found. Please take some quizzes first.\")\n",
    "        return\n",
    "\n",
    "    score_values = [score[\"score\"] for score in scores]\n",
    "    timestamps = [datetime.fromisoformat(score[\"timestamp\"]).strftime('%Y-%m-%d %H:%M:%S') for score in scores]\n",
    "\n",
    "    plt.figure(figsize=(10, 6))\n",
    "    plt.plot(timestamps, score_values, marker='o', linestyle='-', color='b')\n",
    "    plt.title('Quiz Scores Over Time')\n",
    "    plt.xlabel('Attempt Timestamp')\n",
    "    plt.ylabel('Score (%)')\n",
    "    plt.xticks(rotation=45)\n",
    "    plt.tight_layout()\n",
    "    plt.savefig(output_path)\n",
    "    plt.close()\n",
    "\n",
    "@app.get(\"/plot-scores/\")\n",
    "async def get_plot_scores():\n",
    "    plot_image_path = \"quiz_scores_plot.png\"  # Adjust path as necessary\n",
    "    save_plot_scores()  # Make sure the plot is updated before serving\n",
    "    try:\n",
    "        return FileResponse(plot_image_path)\n",
    "    except FileNotFoundError:\n",
    "        raise HTTPException(status_code=404, detail=\"Plot image not found.\")\n",
    "\n"
   ]
  },
  {
   "cell_type": "code",
   "execution_count": null,
   "id": "10035c58",
   "metadata": {},
   "outputs": [],
   "source": []
  }
 ],
 "metadata": {
  "kernelspec": {
   "display_name": "Python 3 (ipykernel)",
   "language": "python",
   "name": "python3"
  },
  "language_info": {
   "codemirror_mode": {
    "name": "ipython",
    "version": 3
   },
   "file_extension": ".py",
   "mimetype": "text/x-python",
   "name": "python",
   "nbconvert_exporter": "python",
   "pygments_lexer": "ipython3",
   "version": "3.11.5"
  }
 },
 "nbformat": 4,
 "nbformat_minor": 5
}
