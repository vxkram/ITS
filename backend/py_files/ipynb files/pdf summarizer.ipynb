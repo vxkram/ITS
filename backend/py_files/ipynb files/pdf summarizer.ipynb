{
 "cells": [
  {
   "cell_type": "code",
   "execution_count": 2,
   "id": "91db4d7a",
   "metadata": {},
   "outputs": [],
   "source": [
    "from fastapi import FastAPI\n",
    "from fastapi.responses import FileResponse\n",
    "import requests\n",
    "from bs4 import BeautifulSoup\n",
    "from reportlab.lib.pagesizes import letter\n",
    "from reportlab.platypus import SimpleDocTemplate, Paragraph\n",
    "from reportlab.lib.styles import getSampleStyleSheet\n",
    "\n",
    "app = FastAPI()\n",
    "\n",
    "@app.get(\"/generate-summary/\")\n",
    "async def generate_summary():\n",
    "    # URL of the webpage to summarize\n",
    "    url = 'https://www.techtarget.com/searchdatamanagement/definition/database-management-system'\n",
    "    response = requests.get(url)\n",
    "    soup = BeautifulSoup(response.content, 'html.parser')\n",
    "\n",
    "    # Extract text content\n",
    "    content_items = soup.find_all(['h1', 'h2', 'h3', 'p'])\n",
    "    content = ' '.join(item.text.strip() for item in content_items if item.text.strip() != '')\n",
    "\n",
    "    # The 'enhanced_summary' variable should contain your summarized content\n",
    "    # Assuming 'content' is already a summarized version for this example\n",
    "    enhanced_summary = \"Database Management Systems (DBMS) Overview:- DBMS are pivotal in creating, managing, and manipulating databases, providing a systematic approach to data management.- They support various database models, including relational, NoSQL, and in-memory databases, each serving different needs.Key Functions:- Data Storage, Retrieval, and Update: DBMS stores data in an organized manner, allows for efficient retrieval, and supports updates to ensure data remains current.- Data Security: Implements access controls and authentication measures to safeguard data.- Data Integrity: Maintains data accuracy and consistency through integrity constraints.- Backup and Recovery: Ensures data preservation and recovery mechanisms are in place to handle system failures.Advantages of Using a DBMS:- Improved data sharing and data security.- Better data integration and minimized data inconsistency.- Enhanced data access and responsiveness to user queries.- Increased end-user productivity.Types of DBMS:- Relational DBMS (RDBMS): Uses a table-based structure and SQL for data manipulation. Examples include MySQL, PostgreSQL, and Oracle.- NoSQL DBMS: Designed for unstructured data and scalability challenges, supporting document, key-value, wide-column, and graph databases. Examples include MongoDB, Cassandra, and Neo4j.- In-memory DBMS: Stores data in the main memory to achieve faster response times. Examples include Redis and SAP HANA.Choosing the Right DBMS:- The selection depends on the specific requirements, such as data complexity, scalability needs, and performance criteria. Consider factors like data model support, transaction throughput, and ecosystem compatibility.\"\n",
    "\n",
    "    # Generating PDF\n",
    "    filename = \"DBMS_Enhanced_Summary.pdf\"\n",
    "    doc = SimpleDocTemplate(filename, pagesize=letter)\n",
    "    styles = getSampleStyleSheet()\n",
    "    style = styles[\"Normal\"]\n",
    "\n",
    "    # Assuming your summary might contain multiple paragraphs separated by two newlines\n",
    "    paragraphs = enhanced_summary.split(\"\\n\\n\")\n",
    "    parts = [Paragraph(p.replace(\"\\n\", \"<br />\"), style) for p in paragraphs]\n",
    "\n",
    "    doc.build(parts)\n",
    "\n",
    "    # Option 1: Return a message indicating success\n",
    "    return {\"message\": f\"PDF generated: {filename}\"}\n",
    "\n",
    "    # Option 2: Directly return the generated PDF file to the client\n",
    "    # return FileResponse(filename)\n",
    "\n"
   ]
  },
  {
   "cell_type": "code",
   "execution_count": null,
   "id": "129c400c",
   "metadata": {},
   "outputs": [],
   "source": []
  }
 ],
 "metadata": {
  "kernelspec": {
   "display_name": "Python 3 (ipykernel)",
   "language": "python",
   "name": "python3"
  },
  "language_info": {
   "codemirror_mode": {
    "name": "ipython",
    "version": 3
   },
   "file_extension": ".py",
   "mimetype": "text/x-python",
   "name": "python",
   "nbconvert_exporter": "python",
   "pygments_lexer": "ipython3",
   "version": "3.11.5"
  }
 },
 "nbformat": 4,
 "nbformat_minor": 5
}
