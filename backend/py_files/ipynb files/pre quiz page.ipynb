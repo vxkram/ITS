{
 "cells": [
  {
   "cell_type": "code",
   "execution_count": 1,
   "id": "19189a3c",
   "metadata": {},
   "outputs": [],
   "source": [
    "from fastapi import FastAPI, HTTPException\n",
    "from enum import Enum\n",
    "\n",
    "app = FastAPI()\n",
    "\n",
    "class UserChoice(str, Enum):\n",
    "    quiz = \"quiz\"\n",
    "    content = \"content\"\n",
    "\n",
    "@app.get(\"/\")\n",
    "async def read_root():\n",
    "    return {\"message\": \"Welcome to the ITS. Use /choose/{user_choice} to make a choice.\"}\n",
    "\n",
    "@app.get(\"/choose/{user_choice}\")\n",
    "async def choose_path(user_choice: UserChoice):\n",
    "    if user_choice == UserChoice.quiz:\n",
    "        return {\"message\": \"You've chosen to take the preliminary quiz.\"}\n",
    "        # Redirect to quiz logic or return quiz-related data\n",
    "    elif user_choice == UserChoice.content:\n",
    "        return {\"message\": \"You've chosen to begin with the course content.\"}\n",
    "        # Redirect to content logic or return content-related data\n",
    "    else:\n",
    "        raise HTTPException(status_code=404, detail=\"Choice not found\")"
   ]
  },
  {
   "cell_type": "code",
   "execution_count": null,
   "id": "47851a1b",
   "metadata": {},
   "outputs": [],
   "source": []
  }
 ],
 "metadata": {
  "kernelspec": {
   "display_name": "Python 3 (ipykernel)",
   "language": "python",
   "name": "python3"
  },
  "language_info": {
   "codemirror_mode": {
    "name": "ipython",
    "version": 3
   },
   "file_extension": ".py",
   "mimetype": "text/x-python",
   "name": "python",
   "nbconvert_exporter": "python",
   "pygments_lexer": "ipython3",
   "version": "3.11.5"
  }
 },
 "nbformat": 4,
 "nbformat_minor": 5
}
