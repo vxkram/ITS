{
 "cells": [
  {
   "cell_type": "code",
   "execution_count": 2,
   "id": "0c8d1628",
   "metadata": {},
   "outputs": [],
   "source": [
    "mkdir static"
   ]
  },
  {
   "cell_type": "code",
   "execution_count": 3,
   "id": "f4a6f31c",
   "metadata": {},
   "outputs": [],
   "source": [
    "from fastapi import FastAPI, HTTPException, UploadFile, File\n",
    "from fastapi.responses import FileResponse\n",
    "from fastapi.staticfiles import StaticFiles\n",
    "import matplotlib.pyplot as plt\n",
    "import json\n",
    "import uuid\n",
    "\n",
    "app = FastAPI()\n",
    "\n",
    "# Mount a static directory to serve files\n",
    "app.mount(\"/static\", StaticFiles(directory=\"static\"), name=\"static\")\n",
    "\n",
    "# Placeholder for a simple quiz with correct answers\n",
    "# In a real application, you would likely store this data in a database\n",
    "QUIZ_ANSWERS = {\"1\": \"A\", \"2\": \"B\", \"3\": \"C\"}\n",
    "\n",
    "@app.post(\"/submit_quiz/\")\n",
    "async def submit_quiz(answers: dict):\n",
    "    # Calculate correct answers\n",
    "    correct_statuses = [answers[str(q)] == a for q, a in QUIZ_ANSWERS.items()]\n",
    "    \n",
    "    # Generate and save the plot\n",
    "    plot_filename = save_quiz_results_plot(correct_statuses)\n",
    "    \n",
    "    # Return the URL to access the plot image\n",
    "    return {\"plot_url\": f\"/static/{plot_filename}\"}\n",
    "\n",
    "def save_quiz_results_plot(correct_statuses, directory=\"static\"):\n",
    "    # Generate unique filename\n",
    "    filename = f\"{uuid.uuid4()}.png\"\n",
    "    filepath = f\"{directory}/{filename}\"\n",
    "    \n",
    "    question_labels = [f\"Q{index+1}\" for index, _ in enumerate(QUIZ_ANSWERS)]\n",
    "    bar_heights = [1 for _ in correct_statuses] \n",
    "    colors = ['green' if status else 'red' for status in correct_statuses]\n",
    "    \n",
    "    plt.figure(figsize=(10, 5))\n",
    "    plt.bar(question_labels, bar_heights, color=colors)\n",
    "    plt.xlabel('Questions')\n",
    "    plt.ylabel('Correctness')\n",
    "    plt.title('Quiz Results: Correct (Green) vs Incorrect (Red)')\n",
    "    plt.xticks(rotation=45)\n",
    "    plt.yticks([0, 1], ['Incorrect', 'Correct'])\n",
    "    plt.tight_layout()\n",
    "    plt.savefig(filepath)\n",
    "    plt.close()\n",
    "    \n",
    "    return filename\n"
   ]
  },
  {
   "cell_type": "code",
   "execution_count": null,
   "id": "c7824aa8",
   "metadata": {},
   "outputs": [],
   "source": []
  }
 ],
 "metadata": {
  "kernelspec": {
   "display_name": "Python 3 (ipykernel)",
   "language": "python",
   "name": "python3"
  },
  "language_info": {
   "codemirror_mode": {
    "name": "ipython",
    "version": 3
   },
   "file_extension": ".py",
   "mimetype": "text/x-python",
   "name": "python",
   "nbconvert_exporter": "python",
   "pygments_lexer": "ipython3",
   "version": "3.11.5"
  }
 },
 "nbformat": 4,
 "nbformat_minor": 5
}
