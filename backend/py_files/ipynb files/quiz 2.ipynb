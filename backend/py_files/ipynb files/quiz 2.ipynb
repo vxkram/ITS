{
 "cells": [
  {
   "cell_type": "code",
   "execution_count": 1,
   "id": "6891e10f",
   "metadata": {},
   "outputs": [],
   "source": [
    "from fastapi import FastAPI, HTTPException\n",
    "from pydantic import BaseModel\n",
    "from typing import List, Dict\n",
    "\n",
    "app = FastAPI()\n",
    "\n",
    "class Question(BaseModel):\n",
    "    question: str\n",
    "    options: List[str]\n",
    "    answer: str\n",
    "\n",
    "questions = [\n",
    "    {\n",
    "        \"question\": \"What does DBMS stand for?\",\n",
    "        \"options\": [\"Data Boxing Management System\", \"Database Management System\", \"Data Backup Management System\", \"None of the above\"],\n",
    "        \"answer\": \"Database Management System\"\n",
    "    },\n",
    "    # Add the rest of your questions here\n",
    "]\n",
    "\n",
    "@app.get(\"/quiz/\", response_model=List[Question])\n",
    "async def get_quiz():\n",
    "    return questions\n",
    "\n",
    "class QuizAnswers(BaseModel):\n",
    "    answers: Dict[int, str]  # question index: selected option\n",
    "\n",
    "@app.post(\"/quiz/evaluate/\")\n",
    "async def evaluate_quiz(quiz_answers: QuizAnswers):\n",
    "    correct_count = 0\n",
    "    for idx, answer in quiz_answers.answers.items():\n",
    "        if questions[idx][\"answer\"] == answer:\n",
    "            correct_count += 1\n",
    "    total_questions = len(questions)\n",
    "    return {\"correct\": correct_count, \"total\": total_questions, \"score\": correct_count / total_questions * 100}\n"
   ]
  },
  {
   "cell_type": "code",
   "execution_count": null,
   "id": "283f3547",
   "metadata": {},
   "outputs": [],
   "source": []
  }
 ],
 "metadata": {
  "kernelspec": {
   "display_name": "Python 3 (ipykernel)",
   "language": "python",
   "name": "python3"
  },
  "language_info": {
   "codemirror_mode": {
    "name": "ipython",
    "version": 3
   },
   "file_extension": ".py",
   "mimetype": "text/x-python",
   "name": "python",
   "nbconvert_exporter": "python",
   "pygments_lexer": "ipython3",
   "version": "3.11.5"
  }
 },
 "nbformat": 4,
 "nbformat_minor": 5
}
