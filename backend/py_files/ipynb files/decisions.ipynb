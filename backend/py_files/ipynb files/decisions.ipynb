{
 "cells": [
  {
   "cell_type": "code",
   "execution_count": 3,
   "id": "0dd01ddd",
   "metadata": {},
   "outputs": [],
   "source": [
    "from fastapi import FastAPI\n",
    "from pydantic import BaseModel\n",
    "\n",
    "app = FastAPI()\n",
    "\n",
    "class StudyStatus(BaseModel):\n",
    "    finished_studying: bool\n",
    "\n",
    "@app.post(\"/study-status/\")\n",
    "async def study_status(status: StudyStatus):\n",
    "    if status.finished_studying:\n",
    "        return {\"message\": \"Great! Let's move on to the next topic.\"}\n",
    "    else:\n",
    "        return {\"message\": \"Let's take a step back and revisit the previous topics to reinforce your understanding.\"}"
   ]
  },
  {
   "cell_type": "code",
   "execution_count": null,
   "id": "250a0be3",
   "metadata": {},
   "outputs": [],
   "source": []
  }
 ],
 "metadata": {
  "kernelspec": {
   "display_name": "Python 3 (ipykernel)",
   "language": "python",
   "name": "python3"
  },
  "language_info": {
   "codemirror_mode": {
    "name": "ipython",
    "version": 3
   },
   "file_extension": ".py",
   "mimetype": "text/x-python",
   "name": "python",
   "nbconvert_exporter": "python",
   "pygments_lexer": "ipython3",
   "version": "3.11.5"
  }
 },
 "nbformat": 4,
 "nbformat_minor": 5
}
