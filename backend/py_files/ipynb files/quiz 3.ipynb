{
 "cells": [
  {
   "cell_type": "code",
   "execution_count": 1,
   "id": "d933569b",
   "metadata": {},
   "outputs": [],
   "source": [
    "from fastapi import FastAPI, HTTPException\n",
    "from pydantic import BaseModel\n",
    "from typing import List, Dict\n",
    "from datetime import datetime\n",
    "import json\n",
    "\n",
    "app = FastAPI()\n",
    "\n",
    "class Question(BaseModel):\n",
    "    question: str\n",
    "    options: List[str]\n",
    "    answer: str\n",
    "\n",
    "class Answer(BaseModel):\n",
    "    answers: Dict[int, str]\n",
    "\n",
    "# Static questions data (simplified for the example).\n",
    "questions_data = [\n",
    "    {\"question\": \"What does DBMS stand for?\", \"options\": [\"Data Boxing Management System\", \"Database Management System\", \"Data Backup Management System\", \"None of the above\"], \"answer\": \"Database Management System\"},\n",
    "    # Add more questions as needed\n",
    "]\n",
    "\n",
    "@app.get(\"/quiz/\", response_model=List[Question])\n",
    "async def get_quiz():\n",
    "    # Omit sending the 'answer' key to the client\n",
    "    return [{\"question\": q[\"question\"], \"options\": q[\"options\"]} for q in questions_data]\n",
    "\n",
    "@app.post(\"/quiz/evaluate/\")\n",
    "async def evaluate_quiz(answers: Answer):\n",
    "    correct_count = 0\n",
    "    for idx, user_answer in answers.answers.items():\n",
    "        if questions_data[idx]['answer'] == user_answer:\n",
    "            correct_count += 1\n",
    "    score = correct_count / len(questions_data) * 100\n",
    "    \n",
    "    save_score(score)  # Call function to save the score\n",
    "    \n",
    "    return {\"correct_count\": correct_count, \"score\": score}\n",
    "\n",
    "def save_score(score):\n",
    "    \"\"\"Save the score to a JSON file.\"\"\"\n",
    "    file_path = \"quiz_scores.json\"\n",
    "    score_entry = {\"score\": score, \"timestamp\": datetime.now().isoformat()}\n",
    "    \n",
    "    try:\n",
    "        with open(file_path, \"r\") as file:\n",
    "            scores = json.load(file)\n",
    "    except (FileNotFoundError, json.JSONDecodeError):\n",
    "        scores = []\n",
    "    \n",
    "    scores.append(score_entry)\n",
    "    \n",
    "    with open(file_path, \"w\") as file:\n",
    "        json.dump(scores, file, indent=4)\n"
   ]
  },
  {
   "cell_type": "code",
   "execution_count": null,
   "id": "613607af",
   "metadata": {},
   "outputs": [],
   "source": []
  }
 ],
 "metadata": {
  "kernelspec": {
   "display_name": "Python 3 (ipykernel)",
   "language": "python",
   "name": "python3"
  },
  "language_info": {
   "codemirror_mode": {
    "name": "ipython",
    "version": 3
   },
   "file_extension": ".py",
   "mimetype": "text/x-python",
   "name": "python",
   "nbconvert_exporter": "python",
   "pygments_lexer": "ipython3",
   "version": "3.11.5"
  }
 },
 "nbformat": 4,
 "nbformat_minor": 5
}
