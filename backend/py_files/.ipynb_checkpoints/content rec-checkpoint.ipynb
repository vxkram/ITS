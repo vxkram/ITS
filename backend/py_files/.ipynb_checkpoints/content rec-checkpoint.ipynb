{
 "cells": [
  {
   "cell_type": "code",
   "execution_count": 1,
   "id": "4ab859c1",
   "metadata": {},
   "outputs": [],
   "source": [
    "from fastapi import FastAPI, HTTPException\n",
    "from typing import List, Dict\n",
    "from pydantic import BaseModel\n",
    "\n",
    "app = FastAPI()\n",
    "\n",
    "class Resource(BaseModel):\n",
    "    title: str\n",
    "    url: str\n",
    "\n",
    "# Structuring resources in a way that FastAPI can validate and use\n",
    "categorized_resources = {\n",
    "  \"Beginner\": [\n",
    "    Resource(title=\"Introduction to DBMS\", url=\"https://youtu.be/X7v0O8yiUuY\"),\n",
    "    Resource(title=\"DBMS Tutorial - GeeksforGeeks\", url=\"https://www.geeksforgeeks.org/dbms/\")\n",
    "  ],\n",
    "  \"Intermediate\": [\n",
    "    Resource(title=\"Normalization in DBMS\", url=\"https://youtu.be/5nGC4fyFPes\"),\n",
    "    Resource(title=\"Understanding SQL\", url=\"https://youtu.be/wmiDdBG-yP4\")\n",
    "  ],\n",
    "  \"Advanced\": [\n",
    "    Resource(title=\"Advanced Database Concepts\", url=\"https://youtu.be/ABwD8IYByfk\"),\n",
    "    Resource(title=\"SQL Queries Tutorial\", url=\"https://youtu.be/0buKQHokLK8\")\n",
    "  ]\n",
    "}\n",
    "\n",
    "@app.get(\"/recommend-resources/\", response_model=List[Resource])\n",
    "async def recommend_resources(score: int):\n",
    "    if score <= 40:\n",
    "        recommended_level = \"Beginner\"\n",
    "    elif 40 < score <= 70:\n",
    "        recommended_level = \"Intermediate\"\n",
    "    else:\n",
    "        recommended_level = \"Advanced\"\n",
    "\n",
    "    recommended_resources = categorized_resources[recommended_level]\n",
    "\n",
    "    return recommended_resources\n"
   ]
  },
  {
   "cell_type": "code",
   "execution_count": null,
   "id": "f1d47352",
   "metadata": {},
   "outputs": [],
   "source": []
  }
 ],
 "metadata": {
  "kernelspec": {
   "display_name": "Python 3 (ipykernel)",
   "language": "python",
   "name": "python3"
  },
  "language_info": {
   "codemirror_mode": {
    "name": "ipython",
    "version": 3
   },
   "file_extension": ".py",
   "mimetype": "text/x-python",
   "name": "python",
   "nbconvert_exporter": "python",
   "pygments_lexer": "ipython3",
   "version": "3.11.5"
  }
 },
 "nbformat": 4,
 "nbformat_minor": 5
}
