{
 "cells": [
  {
   "cell_type": "code",
   "execution_count": null,
   "id": "e1196795",
   "metadata": {},
   "outputs": [],
   "source": [
    "from fastapi import FastAPI, HTTPException\n",
    "from pydantic import BaseModel\n",
    "from typing import List\n",
    "import random\n",
    "import json\n",
    "from datetime import datetime\n",
    "\n",
    "app = FastAPI()\n",
    "\n",
    "# Assuming this is the structure of your questions and answers in the JSON file\n",
    "class Question(BaseModel):\n",
    "    question: str\n",
    "    options: List[str]\n",
    "    answer: str\n",
    "\n",
    "@app.get(\"/quiz/\", response_model=List[Question])\n",
    "async def get_quiz_questions():\n",
    "    # Load your questions from a file or database\n",
    "    try:\n",
    "        with open(\"question_bank_dbms.json\", \"r\") as file:\n",
    "            questions = json.load(file)\n",
    "    except FileNotFoundError:\n",
    "        raise HTTPException(status_code=404, detail=\"Question bank not found\")\n",
    "\n",
    "    # Select 10 random questions\n",
    "    selected_questions = random.sample(questions, 10)\n",
    "    return selected_questions\n",
    "\n",
    "class QuizSubmission(BaseModel):\n",
    "    answers: List[str]\n",
    "\n",
    "@app.post(\"/quiz/\")\n",
    "async def submit_quiz(submission: QuizSubmission):\n",
    "    # Load the correct answers to compare with the submission\n",
    "    with open(\"question_bank_dbms.json\", \"r\") as file:\n",
    "        questions = json.load(file)\n",
    "    correct_answers = [question['answer'] for question in questions]\n",
    "\n",
    "    # Calculate the score\n",
    "    score = sum(1 for i, answer in enumerate(submission.answers) if answer == correct_answers[i]) / len(correct_answers) * 100\n",
    "\n",
    "    # Save the score\n",
    "    file_path = \"quiz_scores.json\"\n",
    "    try:\n",
    "        with open(file_path, \"r\") as file:\n",
    "            scores = json.load(file)\n",
    "    except FileNotFoundError:\n",
    "        scores = []\n",
    "\n",
    "    scores.append({\"score\": score, \"timestamp\": datetime.now().isoformat()})\n",
    "    \n",
    "    with open(file_path, \"w\") as file:\n",
    "        json.dump(scores, file)\n",
    "\n",
    "    return {\"message\": f\"You scored {score}% on this quiz.\"}\n"
   ]
  }
 ],
 "metadata": {
  "kernelspec": {
   "display_name": "Python 3 (ipykernel)",
   "language": "python",
   "name": "python3"
  },
  "language_info": {
   "codemirror_mode": {
    "name": "ipython",
    "version": 3
   },
   "file_extension": ".py",
   "mimetype": "text/x-python",
   "name": "python",
   "nbconvert_exporter": "python",
   "pygments_lexer": "ipython3",
   "version": "3.11.5"
  }
 },
 "nbformat": 4,
 "nbformat_minor": 5
}
